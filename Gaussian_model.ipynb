{
  "nbformat": 4,
  "nbformat_minor": 0,
  "metadata": {
    "colab": {
      "provenance": [],
      "authorship_tag": "ABX9TyP0Spc1TyYJ2gcQrW6e4S5U",
      "include_colab_link": true
    },
    "kernelspec": {
      "name": "python3",
      "display_name": "Python 3"
    },
    "language_info": {
      "name": "python"
    }
  },
  "cells": [
    {
      "cell_type": "markdown",
      "metadata": {
        "id": "view-in-github",
        "colab_type": "text"
      },
      "source": [
        "<a href=\"https://colab.research.google.com/github/Sf99-lab/Machine-Learning-Algorithms/blob/main/Gaussian_model.ipynb\" target=\"_parent\"><img src=\"https://colab.research.google.com/assets/colab-badge.svg\" alt=\"Open In Colab\"/></a>"
      ]
    },
    {
      "cell_type": "code",
      "execution_count": 3,
      "metadata": {
        "colab": {
          "base_uri": "https://localhost:8080/"
        },
        "id": "O8IYDXmgwTM6",
        "outputId": "c5c84f5a-9f50-4092-d0db-1cce30461473"
      },
      "outputs": [
        {
          "output_type": "stream",
          "name": "stdout",
          "text": [
            "Predicted Churn: No\n"
          ]
        },
        {
          "output_type": "stream",
          "name": "stderr",
          "text": [
            "/usr/local/lib/python3.10/dist-packages/sklearn/base.py:439: UserWarning: X does not have valid feature names, but GaussianNB was fitted with feature names\n",
            "  warnings.warn(\n"
          ]
        }
      ],
      "source": [
        "import pandas as pd\n",
        "import numpy as np\n",
        "from sklearn.naive_bayes import GaussianNB\n",
        "\n",
        "# Load the data (assuming a CSV file named 'churn_data.csv')\n",
        "data = pd.read_csv(\"/content/sample_data/churn_data.csv\")\n",
        "\n",
        "# Separate features and target variable\n",
        "X = data.iloc[:, :-1]  # All columns except the last\n",
        "y = data[\"Churn (Target Variable)\"]  # Last column\n",
        "\n",
        "\n",
        "# Encode target variable (assuming \"No\" = 0, \"Yes\" = 1)\n",
        "y = np.array([0 if label == \"No\" else 1 for label in y])  # Using y directly\n",
        "\n",
        "\n",
        "# Create the model\n",
        "model = GaussianNB()\n",
        "\n",
        "# Train the model\n",
        "model.fit(X, y)\n",
        "\n",
        "# New data point (assuming it's a NumPy array)\n",
        "new_data = np.array([280, 3.8, 15, 1])  # Replace with your actual values\n",
        "\n",
        "# Predict churn for the new data point\n",
        "predicted_churn = model.predict(new_data.reshape(1, -1))\n",
        "\n",
        "if predicted_churn[0] == 0:\n",
        "  print(\"Predicted Churn: No\")\n",
        "else:\n",
        "  print(\"Predicted Churn: Yes\")"
      ]
    }
  ]
}