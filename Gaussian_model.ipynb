{
  "nbformat": 4,
  "nbformat_minor": 0,
  "metadata": {
    "colab": {
      "provenance": [],
      "authorship_tag": "ABX9TyNsO+mSykeWrhrhIRrFFvUf",
      "include_colab_link": true
    },
    "kernelspec": {
      "name": "python3",
      "display_name": "Python 3"
    },
    "language_info": {
      "name": "python"
    }
  },
  "cells": [
    {
      "cell_type": "markdown",
      "metadata": {
        "id": "view-in-github",
        "colab_type": "text"
      },
      "source": [
        "<a href=\"https://colab.research.google.com/github/Sf99-lab/Machine-Learning-Algorithms/blob/main/Gaussian_model.ipynb\" target=\"_parent\"><img src=\"https://colab.research.google.com/assets/colab-badge.svg\" alt=\"Open In Colab\"/></a>"
      ]
    },
    {
      "cell_type": "code",
      "execution_count": 8,
      "metadata": {
        "colab": {
          "base_uri": "https://localhost:8080/"
        },
        "id": "O8IYDXmgwTM6",
        "outputId": "a8218ea1-ab9b-4e40-e41c-4db4aaba7315"
      },
      "outputs": [
        {
          "output_type": "stream",
          "name": "stdout",
          "text": [
            "Predicted Churn: No\n",
            "Accuracy: 1.0\n",
            "Precision (Yes churn): 1.0\n",
            "Recall (Sensitivity) (Yes churn): 1.0\n",
            "Specificity: 1.0\n"
          ]
        },
        {
          "output_type": "stream",
          "name": "stderr",
          "text": [
            "/usr/local/lib/python3.10/dist-packages/sklearn/base.py:439: UserWarning: X does not have valid feature names, but GaussianNB was fitted with feature names\n",
            "  warnings.warn(\n"
          ]
        }
      ],
      "source": [
        "import pandas as pd\n",
        "import numpy as np\n",
        "from sklearn.naive_bayes import GaussianNB\n",
        "\n",
        "# Load the data (assuming a CSV file named 'churn_data.csv')\n",
        "data = pd.read_csv(\"/content/sample_data/churn_data.csv\")\n",
        "\n",
        "# Separate features and target variable\n",
        "X = data.iloc[:, :-1]  # All columns except the last\n",
        "y = data[\"Churn (Target Variable)\"]  # Last column\n",
        "\n",
        "\n",
        "# Encode target variable (assuming \"No\" = 0, \"Yes\" = 1)\n",
        "y = np.array([0 if label == \"No\" else 1 for label in y])  # Using y directly\n",
        "\n",
        "\n",
        "# Create the model\n",
        "model = GaussianNB()\n",
        "\n",
        "# Train the model\n",
        "model.fit(X, y)\n",
        "\n",
        "# New data point (assuming it's a NumPy array)\n",
        "new_data = np.array([280, 3.8, 15, 1])  # Replace with your actual values\n",
        "\n",
        "# Predict churn for the new data point\n",
        "predicted_churn = model.predict(new_data.reshape(1, -1))\n",
        "\n",
        "if predicted_churn[0] == 0:\n",
        "  print(\"Predicted Churn: No\")\n",
        "else:\n",
        "  print(\"Predicted Churn: Yes\")\n",
        "\n",
        "# Calculate performance metrics\n",
        "y_true = y  # Actual churn labels\n",
        "y_pred = model.predict(X)  # Predicted churn labels for all data points\n",
        "\n",
        "# Using the provided function (assuming it's defined)\n",
        "def calculate_metrics(y_true, y_pred):\n",
        "  positive = np.unique(y_true)[0]\n",
        "  negative = np.unique(y_true)[1]\n",
        "\n",
        "  tp = np.count_nonzero((y_true == positive) & (y_pred == positive))\n",
        "  tn = np.count_nonzero((y_true == negative) & (y_pred == negative))\n",
        "  fp = np.count_nonzero((y_true == negative) & (y_pred == positive))\n",
        "  fn = np.count_nonzero((y_true == positive) & (y_pred == negative))\n",
        "\n",
        "  metrics_dict = {\n",
        "  \"accuracy\": (tp + tn) / len(y_true),\n",
        "  \"precision\": tp / (tp + fp),\n",
        "  \"recall\" : tp / (tp + fn),\n",
        "  \"specificity\" :  tn / (tn + fp)\n",
        "  }\n",
        "  return metrics_dict\n",
        "\n",
        "metrics = calculate_metrics(y_true, y_pred)\n",
        "\n",
        "# Print or use the calculated metrics (accuracy, precision, recall, specificity)\n",
        "print(\"Accuracy:\", metrics[\"accuracy\"])\n",
        "print(\"Precision (Yes churn):\", metrics[\"precision\"])\n",
        "print(\"Recall (Sensitivity) (Yes churn):\", metrics[\"recall\"])\n",
        "print(\"Specificity:\", metrics[\"specificity\"])"
      ]
    }
  ]
}