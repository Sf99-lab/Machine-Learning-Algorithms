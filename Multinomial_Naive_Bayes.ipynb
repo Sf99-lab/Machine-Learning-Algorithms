{
  "nbformat": 4,
  "nbformat_minor": 0,
  "metadata": {
    "colab": {
      "provenance": [],
      "authorship_tag": "ABX9TyNG0zLU8tikbAsU1K6jiW3t",
      "include_colab_link": true
    },
    "kernelspec": {
      "name": "python3",
      "display_name": "Python 3"
    },
    "language_info": {
      "name": "python"
    }
  },
  "cells": [
    {
      "cell_type": "markdown",
      "metadata": {
        "id": "view-in-github",
        "colab_type": "text"
      },
      "source": [
        "<a href=\"https://colab.research.google.com/github/Sf99-lab/Machine-Learning-Algorithms/blob/main/Multinomial_Naive_Bayes.ipynb\" target=\"_parent\"><img src=\"https://colab.research.google.com/assets/colab-badge.svg\" alt=\"Open In Colab\"/></a>"
      ]
    },
    {
      "cell_type": "code",
      "execution_count": 1,
      "metadata": {
        "colab": {
          "base_uri": "https://localhost:8080/"
        },
        "id": "YDKC7eP5K5mM",
        "outputId": "3c8a2cdc-76ed-4c16-f04f-5ed78aca5514"
      },
      "outputs": [
        {
          "output_type": "stream",
          "name": "stdout",
          "text": [
            "Probability of getting two 3s, one 4, and the rest being different numbers in 3 die rolls: 0.013888888888888876\n"
          ]
        }
      ],
      "source": [
        "import numpy as np\n",
        "from scipy.stats import multinomial\n",
        "\n",
        "# Define parameters\n",
        "n_trials = 3\n",
        "n_categories = 6\n",
        "\n",
        "# Define probabilities for a fair die\n",
        "p = np.ones(n_categories) / n_categories\n",
        "\n",
        "# Define the outcome of interest (two 3s, one 4, and the rest being different numbers)\n",
        "outcome_of_interest = [0, 0, 2, 1, 0, 0]  # For a six-sided die, index 2 represents the number 3, index 3 represents the number 4\n",
        "\n",
        "# Calculate the probability of the outcome of interest\n",
        "probability = multinomial.pmf(outcome_of_interest, n_trials, p)\n",
        "\n",
        "print(\"Probability of getting two 3s, one 4, and the rest being different numbers in 3 die rolls:\", probability)\n"
      ]
    }
  ]
}