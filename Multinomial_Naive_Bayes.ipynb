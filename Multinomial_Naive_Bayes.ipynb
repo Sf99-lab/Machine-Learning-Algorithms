{
  "nbformat": 4,
  "nbformat_minor": 0,
  "metadata": {
    "colab": {
      "provenance": [],
      "authorship_tag": "ABX9TyPI76oI/Tv6oSaxw0KUzWrO",
      "include_colab_link": true
    },
    "kernelspec": {
      "name": "python3",
      "display_name": "Python 3"
    },
    "language_info": {
      "name": "python"
    }
  },
  "cells": [
    {
      "cell_type": "markdown",
      "metadata": {
        "id": "view-in-github",
        "colab_type": "text"
      },
      "source": [
        "<a href=\"https://colab.research.google.com/github/Sf99-lab/Machine-Learning-Algorithms/blob/main/Multinomial_Naive_Bayes.ipynb\" target=\"_parent\"><img src=\"https://colab.research.google.com/assets/colab-badge.svg\" alt=\"Open In Colab\"/></a>"
      ]
    },
    {
      "cell_type": "markdown",
      "source": [
        "Imagine rolling a six-sided die multiple times (n trials). The multinomial distribution can calculate the probability of getting specific counts for each side (1, 2, 3, 4, 5, and 6) after those rolls. Each trial (die roll in this case) is independent. The outcome of one roll doesn't influence the outcome of the next. In each trial, exactly one category will have a \"success\" (landing on a specific side of the die). Each category (side of the die) has a predefined probability of occurring in a single trial. For a fair die, all sides would have an equal probability (1/6). The multinomial distribution helps determine the probability of getting a particular combination of successes across categories. For example, calculation of the probability of getting two 3s, one 4, and the rest being different numbers in n=3 die rolls is shown below."
      ],
      "metadata": {
        "id": "djexs5r3MuLk"
      }
    },
    {
      "cell_type": "code",
      "execution_count": 8,
      "metadata": {
        "colab": {
          "base_uri": "https://localhost:8080/"
        },
        "id": "YDKC7eP5K5mM",
        "outputId": "966d8f4f-cffe-4dda-8290-fb2cccbda102"
      },
      "outputs": [
        {
          "output_type": "stream",
          "name": "stdout",
          "text": [
            "Probability of getting two 3s, one 4, and the rest being different numbers in 3 die rolls: 0.013888888888888876\n",
            "Sensitivity: 0\n",
            "Specificity: 0\n",
            "Precision: 0.0\n",
            "Accuracy: 0.0\n"
          ]
        }
      ],
      "source": [
        "import numpy as np\n",
        "from scipy.stats import multinomial\n",
        "\n",
        "# Define parameters\n",
        "n_trials = 3\n",
        "n_categories = 6\n",
        "\n",
        "# Define probabilities for a fair die\n",
        "p = np.ones(n_categories) / n_categories\n",
        "\n",
        "# Define the outcome of interest (two 3s, one 4, and the rest being different numbers)\n",
        "outcome_of_interest = [0, 0, 2, 1, 0, 0]  # For a six-sided die, index 2 represents the number 3, index 3 represents the number 4\n",
        "\n",
        "# Calculate the probability of the outcome of interest\n",
        "probability = multinomial.pmf(outcome_of_interest, n_trials, p)\n",
        "\n",
        "print(\"Probability of getting two 3s, one 4, and the rest being different numbers in 3 die rolls:\", probability)\n",
        "\n",
        "# Define the threshold for classifying outcomes as positive\n",
        "threshold = 0.05  # Example threshold, adjust as needed\n",
        "\n",
        "# Define the predicted probability of the outcome of interest (two 3s, one 4, and the rest being different numbers)\n",
        "predicted_probability = probability\n",
        "\n",
        "# Define the actual outcome (1 if the outcome matches the specified combination, 0 otherwise)\n",
        "actual_outcome = 1 if predicted_probability > threshold else 0\n",
        "\n",
        "# Compute performance metrics\n",
        "if actual_outcome == 1:\n",
        "    TP = 1\n",
        "    FP = 0\n",
        "else:\n",
        "    TP = 0\n",
        "    FP = 1\n",
        "\n",
        "FN = 0  # No false negatives in this scenario\n",
        "TN = 0  # No true negatives in this scenario\n",
        "\n",
        "# Compute performance metrics\n",
        "sensitivity = 1 if TP > 0 else 0\n",
        "specificity = 0  # Since there are no true negatives\n",
        "precision = TP / (TP + FP) if TP + FP > 0 else 0  # Check for division by zero\n",
        "accuracy = (TP + TN) / (TP + FP + FN + TN)\n",
        "\n",
        "print(\"Sensitivity:\", sensitivity)\n",
        "print(\"Specificity:\", specificity)\n",
        "print(\"Precision:\", precision)\n",
        "print(\"Accuracy:\", accuracy)\n",
        "\n",
        "\n"
      ]
    },
    {
      "cell_type": "markdown",
      "source": [
        "1. Probability of getting two 3s, one 4, and the rest being different numbers in 3 die rolls: 0.013888888888888876\n",
        "      * This indicates the calculated probability of the specified combination of outcomes occurring in 3 die rolls. In this case, the probability is approximately 0.0139, or about 1.39%.\n",
        "\n",
        "2. **Sensitivity: 0**\n",
        "     * Sensitivity, also known as the true positive rate, measures the proportion of actual positive cases that were correctly identified by the algorithm. Here, it's 0, meaning that no true positive cases were identified.\n",
        "\n",
        "3. **Specificity: 0**\n",
        "   * Specificity, also known as the true negative rate, measures the proportion of actual negative cases that were correctly identified by the algorithm. In this scenario, there are no true negatives, so specificity is 0.\n",
        "\n",
        "4. **Precision: 0.0**\n",
        "     * Precision measures the proportion of positive cases that were correctly identified by the algorithm out of all cases identified as positive. Here, it's 0.0, indicating that none of the identified positive cases were actually positive.\n",
        "\n",
        "5. **Accuracy: 0.0**\n",
        "     * Accuracy measures the proportion of correctly classified cases out of all cases. In this case, since there are no true positive or true negative cases, the accuracy is 0.0."
      ],
      "metadata": {
        "id": "ZREaTenaUGVe"
      }
    }
  ]
}