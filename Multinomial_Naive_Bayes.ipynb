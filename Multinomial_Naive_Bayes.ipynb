{
  "nbformat": 4,
  "nbformat_minor": 0,
  "metadata": {
    "colab": {
      "provenance": [],
      "authorship_tag": "ABX9TyOETDOo/KW7sc7umZBbXzMT",
      "include_colab_link": true
    },
    "kernelspec": {
      "name": "python3",
      "display_name": "Python 3"
    },
    "language_info": {
      "name": "python"
    }
  },
  "cells": [
    {
      "cell_type": "markdown",
      "metadata": {
        "id": "view-in-github",
        "colab_type": "text"
      },
      "source": [
        "<a href=\"https://colab.research.google.com/github/Sf99-lab/Machine-Learning-Algorithms/blob/main/Multinomial_Naive_Bayes.ipynb\" target=\"_parent\"><img src=\"https://colab.research.google.com/assets/colab-badge.svg\" alt=\"Open In Colab\"/></a>"
      ]
    },
    {
      "cell_type": "markdown",
      "source": [
        "Imagine rolling a six-sided die multiple times (n trials). The multinomial distribution can calculate the probability of getting specific counts for each side (1, 2, 3, 4, 5, and 6) after those rolls. Each trial (die roll in this case) is independent. The outcome of one roll doesn't influence the outcome of the next. In each trial, exactly one category will have a \"success\" (landing on a specific side of the die). Each category (side of the die) has a predefined probability of occurring in a single trial. For a fair die, all sides would have an equal probability (1/6). The multinomial distribution helps determine the probability of getting a particular combination of successes across categories. For example, calculation of the probability of getting two 3s, one 4, and the rest being different numbers in n=3 die rolls is shown below."
      ],
      "metadata": {
        "id": "djexs5r3MuLk"
      }
    },
    {
      "cell_type": "code",
      "execution_count": 7,
      "metadata": {
        "colab": {
          "base_uri": "https://localhost:8080/"
        },
        "id": "YDKC7eP5K5mM",
        "outputId": "54ee5a6a-036a-4f77-d035-ef5e01128e7b"
      },
      "outputs": [
        {
          "output_type": "stream",
          "name": "stdout",
          "text": [
            "Probability of getting two 3s, one 4, and the rest being different numbers in 3 die rolls: 0.013888888888888876\n"
          ]
        }
      ],
      "source": [
        "import numpy as np\n",
        "from scipy.stats import multinomial\n",
        "\n",
        "# Define parameters\n",
        "n_trials = 3\n",
        "n_categories = 6\n",
        "\n",
        "# Define probabilities for a fair die\n",
        "p = np.ones(n_categories) / n_categories\n",
        "\n",
        "# Define the outcome of interest (two 3s, one 4, and the rest being different numbers)\n",
        "outcome_of_interest = [0, 0, 2, 1, 0, 0]  # For a six-sided die, index 2 represents the number 3, index 3 represents the number 4\n",
        "\n",
        "# Calculate the probability of the outcome of interest\n",
        "probability = multinomial.pmf(outcome_of_interest, n_trials, p)\n",
        "\n",
        "print(\"Probability of getting two 3s, one 4, and the rest being different numbers in 3 die rolls:\", probability)\n",
        "\n",
        "\n",
        "\n"
      ]
    }
  ]
}