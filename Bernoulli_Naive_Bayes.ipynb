{
  "nbformat": 4,
  "nbformat_minor": 0,
  "metadata": {
    "colab": {
      "provenance": [],
      "authorship_tag": "ABX9TyOlFvJTB74BqN+zOwGJPbFW",
      "include_colab_link": true
    },
    "kernelspec": {
      "name": "python3",
      "display_name": "Python 3"
    },
    "language_info": {
      "name": "python"
    }
  },
  "cells": [
    {
      "cell_type": "markdown",
      "metadata": {
        "id": "view-in-github",
        "colab_type": "text"
      },
      "source": [
        "<a href=\"https://colab.research.google.com/github/Sf99-lab/Machine-Learning-Algorithms/blob/main/Bernoulli_Naive_Bayes.ipynb\" target=\"_parent\"><img src=\"https://colab.research.google.com/assets/colab-badge.svg\" alt=\"Open In Colab\"/></a>"
      ]
    },
    {
      "cell_type": "code",
      "execution_count": null,
      "metadata": {
        "colab": {
          "base_uri": "https://localhost:8080/"
        },
        "id": "aN-O66WFjsXE",
        "outputId": "786c0dd1-d721-4835-82c6-8bf3f7b35a80"
      },
      "outputs": [
        {
          "output_type": "stream",
          "name": "stdout",
          "text": [
            "Predicted class for the new data point: ['Spam']\n",
            "Sensitivity: 1.0\n",
            "Specificity: 1.0\n",
            "Precision: 1.0\n",
            "Accuracy: 1.0\n"
          ]
        }
      ],
      "source": [
        "import pandas as pd\n",
        "import numpy as np\n",
        "from sklearn.naive_bayes import BernoulliNB\n",
        "from sklearn.preprocessing import OneHotEncoder\n",
        "\n",
        "# Load the data into a pandas DataFrame\n",
        "data = pd.read_csv(\"/content/sample_data/data.csv\")\n",
        "\n",
        "# Separate features and target variable\n",
        "X = data.drop(columns=['Category'])  # All columns except the target variable\n",
        "y = data['Category']  # Target variable\n",
        "\n",
        "# One-hot encode categorical features\n",
        "encoder = OneHotEncoder(drop='first')  # drop='first' to avoid multicollinearity\n",
        "X_encoded = encoder.fit_transform(X)\n",
        "\n",
        "# Create the Bernoulli Naive Bayes model\n",
        "model = BernoulliNB()\n",
        "\n",
        "# Train the model on the encoded data\n",
        "model.fit(X_encoded, y)\n",
        "\n",
        "# Prediction example\n",
        "new_data = pd.DataFrame({\n",
        "    'Lottery': ['Yes'],\n",
        "    'Discount': ['No'],\n",
        "    'Sale': ['No'],\n",
        "    'Offer': ['No'],\n",
        "    'Free': ['No']\n",
        "})\n",
        "\n",
        "# One-hot encode the new data point\n",
        "new_data_encoded = encoder.transform(new_data)\n",
        "\n",
        "# Make predictions using the trained model\n",
        "predicted_class = model.predict(new_data_encoded)\n",
        "\n",
        "print(\"Predicted class for the new data point:\", predicted_class)\n",
        "\n",
        "# Assuming we have the actual target classes and predicted classes stored in variables\n",
        "actual_classes = np.array(['Spam', 'Spam', 'Spam', 'Ham', 'Ham', 'Ham', 'Spam', 'Spam', 'Ham', 'Spam'])\n",
        "predicted_classes = np.array(['Spam', 'Spam', 'Spam', 'Ham', 'Ham', 'Ham', 'Spam', 'Spam', 'Ham', 'Spam'])\n",
        "\n",
        "# Compute True Positives (TP), True Negatives (TN), False Positives (FP), False Negatives (FN)\n",
        "TP = np.sum((actual_classes == 'Spam') & (predicted_classes == 'Spam'))\n",
        "TN = np.sum((actual_classes == 'Ham') & (predicted_classes == 'Ham'))\n",
        "FP = np.sum((actual_classes == 'Ham') & (predicted_classes == 'Spam'))\n",
        "FN = np.sum((actual_classes == 'Spam') & (predicted_classes == 'Ham'))\n",
        "\n",
        "# Compute performance metrics\n",
        "sensitivity = TP / (TP + FN) if TP + FN > 0 else 0\n",
        "specificity = TN / (TN + FP) if TN + FP > 0 else 0\n",
        "precision = TP / (TP + FP) if TP + FP > 0 else 0\n",
        "accuracy = (TP + TN) / len(actual_classes)\n",
        "\n",
        "print(\"Sensitivity:\", sensitivity)\n",
        "print(\"Specificity:\", specificity)\n",
        "print(\"Precision:\", precision)\n",
        "print(\"Accuracy:\", accuracy)\n",
        "\n",
        "\n",
        "\n"
      ]
    },
    {
      "cell_type": "markdown",
      "source": [
        "**Performance metrics( Sensitivity, specificity, precision, accuracy )**\n",
        "\n",
        "**Sensitivity (True Positive Rate):** Sensitivity measures the proportion of actual positive cases that were correctly identified by the model.\n",
        "Sensitivity = True Positives / (True Positives + False Negatives)\n",
        "\n",
        "**Specificity (True Negative Rate):** Specificity measures the proportion of actual negative cases that were correctly identified by the model.\n",
        "Specificity = True Negatives / (True Negatives + False Positives)\n",
        "\n",
        "**Precision:** Precision measures the proportion of predicted positive cases that were actually positive.\n",
        "Precision = True Positives / (True Positives + False Positives)\n",
        "\n",
        "**Accuracy:** Accuracy measures the proportion of correctly classified cases out of all cases.\n",
        "Accuracy = (True Positives + True Negatives) / Total"
      ],
      "metadata": {
        "id": "z7XdJI8JuLsi"
      }
    },
    {
      "cell_type": "markdown",
      "source": [
        "The output indicates the results of the Bernoulli Naive Bayes algorithm applied to the new data point, as well as the performance metrics computed for the entire dataset.\n",
        "\n",
        "**Predicted class for the new data point: ['Spam']:**\n",
        "\n",
        "* The model predicts that the new data point belongs to the \"Spam\" class.\n",
        "\n",
        "**Sensitivity: 1.0:**\n",
        "* The sensitivity (true positive rate) is 1.0, which means that all actual positive cases (Spam) were correctly identified by the model. This indicates that the model has a high ability to correctly identify positive cases.\n",
        "\n",
        "**Specificity: 1.0:**\n",
        "\n",
        "* The specificity (true negative rate) is 1.0, which means that all actual negative cases (Ham) were correctly identified by the model. This indicates that the model has a high ability to correctly identify negative cases.\n",
        "\n",
        "**Precision: 1.0:**\n",
        "\n",
        "* The precision is 1.0, which means that all predicted positive cases (Spam) were actually positive. This indicates that when the model predicts a message as \"Spam\", it is very likely to be correct.\n",
        "\n",
        "**Accuracy: 1.0:**\n",
        "\n",
        "* * * The accuracy is 1.0, which means that all cases in the dataset were correctly classified by the model. This indicates that the model has high overall performance in classifying both \"Spam\" and \"Ham\" messages."
      ],
      "metadata": {
        "id": "2_xutzdVeKYX"
      }
    }
  ]
}